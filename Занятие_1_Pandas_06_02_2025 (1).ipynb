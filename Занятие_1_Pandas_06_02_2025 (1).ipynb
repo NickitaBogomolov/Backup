{
  "nbformat": 4,
  "nbformat_minor": 0,
  "metadata": {
    "colab": {
      "private_outputs": true,
      "provenance": []
    },
    "kernelspec": {
      "name": "python3",
      "display_name": "Python 3"
    },
    "language_info": {
      "name": "python"
    }
  },
  "cells": [
    {
      "cell_type": "markdown",
      "source": [
        "**Введение в Pandas**\n",
        "\n",
        "---\n",
        "\n"
      ],
      "metadata": {
        "id": "CYAhR7XB0yie"
      }
    },
    {
      "cell_type": "markdown",
      "source": [
        "Pandas — это библиотека Python, используемая для работы с наборами данных.\n",
        "\n",
        "Она имеет функции для анализа, очистки, изучения и манипулирования данными.\n",
        "\n",
        "Название «Pandas» расшифровывается как «Panel Data», так и к «Python Data Analysis» и было создано Уэсом МакКинни в 2008 году."
      ],
      "metadata": {
        "id": "hPD4X2rpMnO0"
      }
    },
    {
      "cell_type": "markdown",
      "source": [
        "Pandas позволяет нам анализировать большие данные и делать выводы на основе статистики.\n",
        "\n",
        "Pandas может очищать беспорядочные наборы данных и делать их более читабельными и релевантными.\n",
        "\n",
        "Чистые и релевантные данные очень важны в науке о данных."
      ],
      "metadata": {
        "id": "bSZGHwy8MxyY"
      }
    },
    {
      "cell_type": "markdown",
      "source": [
        "Функционал Pandas позволяет выяснить:\n",
        "Есть ли корреляция между двумя или более столбцами?\n",
        "Каково среднее значение?\n",
        "Каково Максимальное значение?\n",
        "Каково Минимальное значение?\n",
        "Pandas также может удалять нерелевантные строки или строки которые содержат неправильные значения, например пустые или значения NULL. Это называется очисткой данных."
      ],
      "metadata": {
        "id": "3dz8r3QHM1dg"
      }
    },
    {
      "cell_type": "code",
      "source": [
        "import pandas"
      ],
      "metadata": {
        "id": "BbFNW5jwM1JO"
      },
      "execution_count": null,
      "outputs": []
    },
    {
      "cell_type": "code",
      "source": [
        "mydataset = {\n",
        "  'cars': [\"BMW\", \"Volvo\", \"Ford\"],\n",
        "  'speed': [300, 170, 200]\n",
        "}\n",
        "\n",
        "df = pandas.DataFrame(data = mydataset)"
      ],
      "metadata": {
        "id": "otLspaO8MnCO"
      },
      "execution_count": null,
      "outputs": []
    },
    {
      "cell_type": "code",
      "source": [
        "df"
      ],
      "metadata": {
        "id": "YQ1i09kZktC1"
      },
      "execution_count": null,
      "outputs": []
    },
    {
      "cell_type": "markdown",
      "source": [
        "Обычно, pandas используют в сокращенном виде pd после импорта"
      ],
      "metadata": {
        "id": "U5PEVIN7B-05"
      }
    },
    {
      "cell_type": "code",
      "source": [
        "import pandas as pd"
      ],
      "metadata": {
        "id": "aFKEc5YSB2dK"
      },
      "execution_count": null,
      "outputs": []
    },
    {
      "cell_type": "code",
      "source": [
        "mydataset = {\n",
        "  'cars': [\"BMW\", \"Volvo\", \"Ford\"],\n",
        "  'passings': [3, 7, 2]\n",
        "}\n",
        "\n",
        "df = pd.DataFrame(mydataset)"
      ],
      "metadata": {
        "id": "AEA0i_DYB-C-"
      },
      "execution_count": null,
      "outputs": []
    },
    {
      "cell_type": "code",
      "source": [
        "df"
      ],
      "metadata": {
        "id": "5i1J774bFQOQ"
      },
      "execution_count": null,
      "outputs": []
    },
    {
      "cell_type": "code",
      "source": [
        "!pip install pandas"
      ],
      "metadata": {
        "id": "LRbKRHiu_bf5"
      },
      "execution_count": null,
      "outputs": []
    },
    {
      "cell_type": "markdown",
      "source": [
        "Проверка версии pandas:"
      ],
      "metadata": {
        "id": "nVymE27OGbxw"
      }
    },
    {
      "cell_type": "code",
      "source": [
        "print(pd.__version__)"
      ],
      "metadata": {
        "id": "dljWkfRAFVKJ"
      },
      "execution_count": null,
      "outputs": []
    },
    {
      "cell_type": "markdown",
      "source": [
        "**Ряды(серии) в pandas**"
      ],
      "metadata": {
        "id": "_FqBXaz4G6Dp"
      }
    },
    {
      "cell_type": "markdown",
      "source": [
        "\n",
        "Ряды Pandas похожы на столбцы в таблице Excel.\n",
        "\n",
        "Это одномерный массив, содержащий данные любого типа."
      ],
      "metadata": {
        "id": "hI3UnvdmG141"
      }
    },
    {
      "cell_type": "code",
      "source": [
        "a = [1, 7, 2]\n",
        "\n",
        "s1 = pd.Series(data = a)"
      ],
      "metadata": {
        "id": "98CtYF_dGgQE"
      },
      "execution_count": null,
      "outputs": []
    },
    {
      "cell_type": "code",
      "source": [
        "s1"
      ],
      "metadata": {
        "id": "ft0HUElONzbS"
      },
      "execution_count": null,
      "outputs": []
    },
    {
      "cell_type": "markdown",
      "source": [
        "Первое значение имеет индекс 0, второе значение имеет индекс 1 и т. д.\n",
        "\n",
        "Индекс может использоваться для доступа к указанному значению."
      ],
      "metadata": {
        "id": "DT5xiGgaOMwt"
      }
    },
    {
      "cell_type": "code",
      "source": [
        "s1[0]"
      ],
      "metadata": {
        "id": "hVnoaYVjN2an"
      },
      "execution_count": null,
      "outputs": []
    },
    {
      "cell_type": "markdown",
      "source": [
        "С помощью аргумента index вы можете задавать свои собственные индексы."
      ],
      "metadata": {
        "id": "yplF5KmYOX2G"
      }
    },
    {
      "cell_type": "code",
      "source": [
        "a = [1, 7, 2]\n",
        "\n",
        "s1 = pd.Series(a, index = [\"x\", \"y\", \"z\"])"
      ],
      "metadata": {
        "id": "9gWxy9cnORdx"
      },
      "execution_count": null,
      "outputs": []
    },
    {
      "cell_type": "code",
      "source": [
        "s1"
      ],
      "metadata": {
        "id": "0zJTY27jOlbL"
      },
      "execution_count": null,
      "outputs": []
    },
    {
      "cell_type": "code",
      "source": [
        "print(s1[\"z\"])"
      ],
      "metadata": {
        "id": "iC3pDLiUOxfk"
      },
      "execution_count": null,
      "outputs": []
    },
    {
      "cell_type": "markdown",
      "source": [
        "Вы также можете использовать объект ключ/значение, например словарь, при создании серии."
      ],
      "metadata": {
        "id": "k4PP792LPD7Q"
      }
    },
    {
      "cell_type": "code",
      "source": [
        "calories = {\"day1\": 420, \"day2\": 380, \"day3\": 390}\n",
        "\n",
        "myvar = pd.Series(calories)\n",
        "\n",
        "print(myvar)"
      ],
      "metadata": {
        "id": "pgwtj1zSO2eK"
      },
      "execution_count": null,
      "outputs": []
    },
    {
      "cell_type": "code",
      "source": [
        "myvar['day3']"
      ],
      "metadata": {
        "id": "2uB-Tk0GDRMC"
      },
      "execution_count": null,
      "outputs": []
    },
    {
      "cell_type": "markdown",
      "source": [
        "Чтобы выбрать только некоторые элементы в словаре, используйте аргумент индекса и укажите только элементы, которые вы хотите включить в серию."
      ],
      "metadata": {
        "id": "hrA5Dp7oPeVC"
      }
    },
    {
      "cell_type": "code",
      "source": [
        "calories = {\"day1\": 420, \"day2\": 380, \"day3\": 390}\n",
        "\n",
        "myvar = pd.Series(calories, index = [\"day1\", \"day2\"])\n",
        "\n",
        "print(myvar)"
      ],
      "metadata": {
        "id": "6MAOtQLBO9an"
      },
      "execution_count": null,
      "outputs": []
    },
    {
      "cell_type": "markdown",
      "source": [
        "Упражнения:\n",
        "\n",
        "---\n",
        "\n"
      ],
      "metadata": {
        "id": "dRsfnXlsQSnE"
      }
    },
    {
      "cell_type": "markdown",
      "source": [
        "Задание 1. Используйте метод Pandas, чтобы создать серию s1 из списка list_1."
      ],
      "metadata": {
        "id": "k65f5GDgQbMb"
      }
    },
    {
      "cell_type": "code",
      "source": [
        "import pandas as pd"
      ],
      "metadata": {
        "id": "gN_RFxYyG16f"
      },
      "execution_count": null,
      "outputs": []
    },
    {
      "cell_type": "code",
      "source": [
        "list_1 = [10, 100, 200, 290, 120, 90]"
      ],
      "metadata": {
        "id": "vvjYq3hmQasf"
      },
      "execution_count": null,
      "outputs": []
    },
    {
      "cell_type": "code",
      "source": [
        "s1 = pd.Series(list_1)"
      ],
      "metadata": {
        "id": "03sqNYgQ46Rc"
      },
      "execution_count": null,
      "outputs": []
    },
    {
      "cell_type": "code",
      "source": [
        "s1"
      ],
      "metadata": {
        "id": "1CIQIn305Bv5"
      },
      "execution_count": null,
      "outputs": []
    },
    {
      "cell_type": "markdown",
      "source": [
        "Задание 2. Верните первое и второе значение серии Pandas s1, которую вы создали в прошлом задании"
      ],
      "metadata": {
        "id": "4PWe_T8qQz-U"
      }
    },
    {
      "cell_type": "code",
      "source": [
        "s1[0], s1[1]"
      ],
      "metadata": {
        "id": "MyVO-qWpHEdj"
      },
      "execution_count": null,
      "outputs": []
    },
    {
      "cell_type": "markdown",
      "source": [
        "Задание 3. Используйте Pandas, чтобы добавить индексы «a», «b» и «c» и т.д. к  серии s1"
      ],
      "metadata": {
        "id": "d7A-9MzsRYwK"
      }
    },
    {
      "cell_type": "code",
      "source": [
        "s1 = pd.Series(list_1, index=['a', 'b', 'c', 'd', 'e', 'f'])"
      ],
      "metadata": {
        "id": "xEgb5LAwHF7w"
      },
      "execution_count": null,
      "outputs": []
    },
    {
      "cell_type": "code",
      "source": [
        "s1"
      ],
      "metadata": {
        "id": "OTLwl2DgHQlb"
      },
      "execution_count": null,
      "outputs": []
    },
    {
      "cell_type": "markdown",
      "source": [
        "\n",
        "\n",
        "---\n",
        "\n"
      ],
      "metadata": {
        "id": "LwASRLO9Sq25"
      }
    },
    {
      "cell_type": "markdown",
      "source": [
        "Наборы данных в Pandas обычно представляют собой многомерные таблицы, называемые DataFrames.\n",
        "\n",
        "Серия похожа на столбец, а DataFrame — это вся таблица."
      ],
      "metadata": {
        "id": "Kim3fs5JPrIZ"
      }
    },
    {
      "cell_type": "code",
      "source": [
        "data = {\n",
        "  \"calories\": [420, 380, 390],\n",
        "  \"duration\": [50, 40, 45]\n",
        "}\n",
        "\n",
        "df = pd.DataFrame(data)"
      ],
      "metadata": {
        "id": "M1Udj25MPdbh"
      },
      "execution_count": null,
      "outputs": []
    },
    {
      "cell_type": "code",
      "source": [
        "df"
      ],
      "metadata": {
        "id": "sNqtv1qNP0zy"
      },
      "execution_count": null,
      "outputs": []
    },
    {
      "cell_type": "markdown",
      "source": [
        "Как видно из приведенного выше результата, DataFrame похож на таблицу со строками и столбцами.\n",
        "\n",
        "Можно использовать метод loc для возврата одной или нескольких указанных строк."
      ],
      "metadata": {
        "id": "BHYcMVMvX0Z5"
      }
    },
    {
      "cell_type": "code",
      "source": [
        "df.loc[2]"
      ],
      "metadata": {
        "id": "swUnPhGCXwPv"
      },
      "execution_count": null,
      "outputs": []
    },
    {
      "cell_type": "code",
      "source": [
        "df.loc[1:2]"
      ],
      "metadata": {
        "id": "QnDZ658mRNA7"
      },
      "execution_count": null,
      "outputs": []
    },
    {
      "cell_type": "code",
      "source": [
        "df.loc[[0, 2]]"
      ],
      "metadata": {
        "id": "VAN6Ca1GX_uS"
      },
      "execution_count": null,
      "outputs": []
    },
    {
      "cell_type": "markdown",
      "source": [
        "С помощью аргумента index вы можете задавать свои собственные индексы."
      ],
      "metadata": {
        "id": "dT11FFepYQKc"
      }
    },
    {
      "cell_type": "code",
      "source": [
        "df = pd.DataFrame(data, index = [\"day1\", \"day2\", \"day3\"])"
      ],
      "metadata": {
        "id": "E5NSoVkjYK61"
      },
      "execution_count": null,
      "outputs": []
    },
    {
      "cell_type": "code",
      "source": [
        "df"
      ],
      "metadata": {
        "id": "h6l7hM9VYYj1"
      },
      "execution_count": null,
      "outputs": []
    },
    {
      "cell_type": "code",
      "source": [
        "df.loc[[\"day1\",\"day3\"]]"
      ],
      "metadata": {
        "id": "kgwMfPkEYfHI"
      },
      "execution_count": null,
      "outputs": []
    },
    {
      "cell_type": "markdown",
      "source": [
        "Если ваши данных хранятся в файле, Pandas может загрузить их в DataFrame."
      ],
      "metadata": {
        "id": "F_BiDvqhYXX4"
      }
    },
    {
      "cell_type": "code",
      "source": [
        "df = pd.read_csv('/content/sample_data/california_housing_test.csv')"
      ],
      "metadata": {
        "id": "CVQbz94WYjJD"
      },
      "execution_count": null,
      "outputs": []
    },
    {
      "cell_type": "code",
      "source": [
        "df"
      ],
      "metadata": {
        "id": "U73rkSqiKG04"
      },
      "execution_count": null,
      "outputs": []
    },
    {
      "cell_type": "markdown",
      "source": [
        "Анализ данных в Pandas"
      ],
      "metadata": {
        "id": "8tohAcnka_9N"
      }
    },
    {
      "cell_type": "code",
      "source": [
        "df.head(5)"
      ],
      "metadata": {
        "id": "bnDuRW3oa1bn"
      },
      "execution_count": null,
      "outputs": []
    },
    {
      "cell_type": "code",
      "source": [
        "df.tail(2)"
      ],
      "metadata": {
        "id": "pn6tEXm4a3VI"
      },
      "execution_count": null,
      "outputs": []
    },
    {
      "cell_type": "code",
      "source": [
        "df.info()"
      ],
      "metadata": {
        "id": "Wl1fzd67bDMS"
      },
      "execution_count": null,
      "outputs": []
    },
    {
      "cell_type": "markdown",
      "source": [
        "\n",
        "\n",
        "---\n",
        "\n"
      ],
      "metadata": {
        "id": "3UZqgpCiZ3ff"
      }
    },
    {
      "cell_type": "markdown",
      "source": [
        "Упражнения:"
      ],
      "metadata": {
        "id": "i-0gprSFYyA8"
      }
    },
    {
      "cell_type": "markdown",
      "source": [
        "Используйте правильный метод Pandas для создания DataFrame df1 из словаря data."
      ],
      "metadata": {
        "id": "2zCAvuKOZ631"
      }
    },
    {
      "cell_type": "code",
      "source": [
        "data = {\n",
        "  \"calories\": [420, 380, 390, 400],\n",
        "  \"duration\": [50, 40, 45, 30],\n",
        "  \"steps\":[3000, 4000, 3200, 5000]\n",
        "}"
      ],
      "metadata": {
        "id": "dG6Ci7EJaAib"
      },
      "execution_count": null,
      "outputs": []
    },
    {
      "cell_type": "code",
      "source": [
        "df1 = pd.DataFrame(data = data)"
      ],
      "metadata": {
        "id": "wjb2xgKBHJlm"
      },
      "execution_count": null,
      "outputs": []
    },
    {
      "cell_type": "code",
      "source": [
        "df1"
      ],
      "metadata": {
        "id": "lGPYynLLLxtq"
      },
      "execution_count": null,
      "outputs": []
    },
    {
      "cell_type": "markdown",
      "source": [
        "Используйте правильный синтаксис, чтобы вернуть первую строку DataFrame df1."
      ],
      "metadata": {
        "id": "c6ct3MpQZto2"
      }
    },
    {
      "cell_type": "code",
      "source": [
        "df1.loc[0]"
      ],
      "metadata": {
        "id": "hindcf4EzXJX"
      },
      "execution_count": null,
      "outputs": []
    },
    {
      "cell_type": "markdown",
      "source": [
        "https://drive.google.com/file/d/1rVriAK68v5_7qEcZ_agHy6ndobSigmGi/view?usp=sharing"
      ],
      "metadata": {
        "id": "QZYO4fVtLQLn"
      }
    },
    {
      "cell_type": "markdown",
      "source": [
        "Скачать файл. Загрузить в питон как датафрейм. Вывести первые 15 строк датафрейма. Вывести информацию о датафрейме на экран.\n"
      ],
      "metadata": {
        "id": "uTViX1XHNk1K"
      }
    },
    {
      "cell_type": "code",
      "source": [
        "df2 = pd.read_csv('/content/GooglePlayStore_wild (2).csv')"
      ],
      "metadata": {
        "id": "6cNkgCyxV0TU"
      },
      "execution_count": null,
      "outputs": []
    },
    {
      "cell_type": "code",
      "source": [
        "df2.info()"
      ],
      "metadata": {
        "collapsed": true,
        "id": "GFeNmSPvL_KX"
      },
      "execution_count": null,
      "outputs": []
    },
    {
      "cell_type": "code",
      "source": [
        "df2.head(15)"
      ],
      "metadata": {
        "id": "1Ro_UlVaMF7K"
      },
      "execution_count": null,
      "outputs": []
    },
    {
      "cell_type": "markdown",
      "source": [
        "\n",
        "\n",
        "---\n",
        "\n"
      ],
      "metadata": {
        "id": "9mQLnTEOTOHf"
      }
    },
    {
      "cell_type": "markdown",
      "source": [
        "Добавление столбцов в пандас"
      ],
      "metadata": {
        "id": "nDeZN1NdSpnz"
      }
    },
    {
      "cell_type": "code",
      "source": [
        "df_rating_reviews = df2.copy()"
      ],
      "metadata": {
        "id": "9t-px2ZQWEcQ"
      },
      "execution_count": null,
      "outputs": []
    },
    {
      "cell_type": "code",
      "source": [
        "df_rating_reviews.columns"
      ],
      "metadata": {
        "id": "ro9h1ie7x-Hc"
      },
      "execution_count": null,
      "outputs": []
    },
    {
      "cell_type": "code",
      "source": [
        "df_rating_reviews['test_column']=0.0"
      ],
      "metadata": {
        "id": "sVk0ru6vRcbS"
      },
      "execution_count": null,
      "outputs": []
    },
    {
      "cell_type": "code",
      "source": [
        "df_rating_reviews.head(5)"
      ],
      "metadata": {
        "id": "F7yFnpy0Rruw"
      },
      "execution_count": null,
      "outputs": []
    },
    {
      "cell_type": "code",
      "source": [
        "df_rating_reviews['Rating']"
      ],
      "metadata": {
        "id": "Uogzt62aSAa1"
      },
      "execution_count": null,
      "outputs": []
    },
    {
      "cell_type": "code",
      "source": [
        "df_rating_reviews.Rating"
      ],
      "metadata": {
        "id": "OMbctXgEW0C5"
      },
      "execution_count": null,
      "outputs": []
    },
    {
      "cell_type": "markdown",
      "source": [
        "Удаление столбцов и строк в пандас"
      ],
      "metadata": {
        "id": "cCKah8DaSjNm"
      }
    },
    {
      "cell_type": "code",
      "source": [
        "df_rating_reviews.columns"
      ],
      "metadata": {
        "id": "HhU5MBnbXFR2"
      },
      "execution_count": null,
      "outputs": []
    },
    {
      "cell_type": "code",
      "source": [
        "df_rating_reviews.drop(columns = ['Unnamed: 0', 'test_column'], inplace = True)"
      ],
      "metadata": {
        "id": "2SH2lG8WSNmJ"
      },
      "execution_count": null,
      "outputs": []
    },
    {
      "cell_type": "code",
      "source": [
        "df_rating_reviews.columns"
      ],
      "metadata": {
        "id": "RWNwn0BoNBrB"
      },
      "execution_count": null,
      "outputs": []
    },
    {
      "cell_type": "code",
      "source": [
        "df_rating_reviews.index[0:4]"
      ],
      "metadata": {
        "id": "85W1dWYeNMM6"
      },
      "execution_count": null,
      "outputs": []
    },
    {
      "cell_type": "code",
      "source": [
        "df_rating_reviews.drop(df_rating_reviews.index[0:4], inplace = True)"
      ],
      "metadata": {
        "id": "SQOdLNZuS0M2"
      },
      "execution_count": null,
      "outputs": []
    },
    {
      "cell_type": "code",
      "source": [
        "df_rating_reviews"
      ],
      "metadata": {
        "id": "UhmZWk5MNFqL"
      },
      "execution_count": null,
      "outputs": []
    },
    {
      "cell_type": "markdown",
      "source": [
        "Операции со столбцами и данными в Pandas:\n"
      ],
      "metadata": {
        "id": "eW6zTryqzqMp"
      }
    },
    {
      "cell_type": "code",
      "source": [
        "df_rating_reviews['Rating']"
      ],
      "metadata": {
        "id": "db2iEGq40NLZ"
      },
      "execution_count": null,
      "outputs": []
    },
    {
      "cell_type": "code",
      "source": [
        "df_rating_reviews['Rating'].mean().round(1)"
      ],
      "metadata": {
        "id": "kH-Ke2H3YLU0"
      },
      "execution_count": null,
      "outputs": []
    },
    {
      "cell_type": "code",
      "source": [
        "df_rating_reviews['Rating'].fillna(df_rating_reviews['Rating'].mean().round(1), inplace = True)"
      ],
      "metadata": {
        "id": "iVCzuO22QiAW"
      },
      "execution_count": null,
      "outputs": []
    },
    {
      "cell_type": "code",
      "source": [
        "df_rating_reviews_filna_0 = df_rating_reviews.fillna(0.0)"
      ],
      "metadata": {
        "id": "1Q0w8qbrTExB"
      },
      "execution_count": null,
      "outputs": []
    },
    {
      "cell_type": "code",
      "source": [
        "df_rating_reviews_filna_0.info()"
      ],
      "metadata": {
        "id": "UQj40_yXTzqb"
      },
      "execution_count": null,
      "outputs": []
    },
    {
      "cell_type": "code",
      "source": [
        "df_rating_reviews['Rating'].mean().round(1)"
      ],
      "metadata": {
        "id": "xvJGezvxT5HH"
      },
      "execution_count": null,
      "outputs": []
    },
    {
      "cell_type": "code",
      "source": [
        "df_rating_reviews['Rating'].median()"
      ],
      "metadata": {
        "id": "PZK_WY-WUdPX"
      },
      "execution_count": null,
      "outputs": []
    },
    {
      "cell_type": "code",
      "source": [
        "df_rating_reviews['Rating'].mode()[0]"
      ],
      "metadata": {
        "id": "0u9nnaPvUziJ"
      },
      "execution_count": null,
      "outputs": []
    },
    {
      "cell_type": "code",
      "source": [
        "df_rating_reviews_filna_mean = df_rating_reviews.fillna(df_rating_reviews['Rating'].mean().round(1))"
      ],
      "metadata": {
        "id": "Tfl8WhPyVA_L"
      },
      "execution_count": null,
      "outputs": []
    },
    {
      "cell_type": "code",
      "source": [
        "df_rating_reviews_filna_median = df_rating_reviews.fillna(df_rating_reviews['Rating'].median())"
      ],
      "metadata": {
        "id": "h8GBqNjpVMIj"
      },
      "execution_count": null,
      "outputs": []
    },
    {
      "cell_type": "code",
      "source": [
        "df_rating_reviews_filna_median = df_rating_reviews.fillna(df_rating_reviews['Rating'].mode()[0])"
      ],
      "metadata": {
        "id": "wsfRYW5LVUaS"
      },
      "execution_count": null,
      "outputs": []
    },
    {
      "cell_type": "code",
      "source": [
        "df_rating_reviews_filna_median.Rating.head(10)"
      ],
      "metadata": {
        "id": "fp2_lOLoVbnc"
      },
      "execution_count": null,
      "outputs": []
    },
    {
      "cell_type": "code",
      "source": [
        "df_rating_reviews_filna_median['Rating'].loc[200:210]"
      ],
      "metadata": {
        "id": "UBY8ttTC1M1R"
      },
      "execution_count": null,
      "outputs": []
    },
    {
      "cell_type": "code",
      "source": [
        "df_rating_reviews_filna_median['Rating'].loc[200:210]=5.0"
      ],
      "metadata": {
        "id": "EUEVR7uzVwrA",
        "collapsed": true
      },
      "execution_count": null,
      "outputs": []
    },
    {
      "cell_type": "code",
      "source": [
        "df_rating_reviews_filna_median['Rating'].loc[200:210]"
      ],
      "metadata": {
        "id": "oaH9czx61hp8"
      },
      "execution_count": null,
      "outputs": []
    },
    {
      "cell_type": "code",
      "source": [
        "df_rating_reviews_filna_median['Rating'].loc[10]=1.0"
      ],
      "metadata": {
        "id": "9Q9TQ4h1WQqn",
        "collapsed": true
      },
      "execution_count": null,
      "outputs": []
    },
    {
      "cell_type": "code",
      "source": [
        "df_rating_reviews_filna_median['Rating'].loc[10]"
      ],
      "metadata": {
        "id": "xVbtz4q21tHl"
      },
      "execution_count": null,
      "outputs": []
    },
    {
      "cell_type": "code",
      "source": [
        "df_rating_reviews_dropna = df_rating_reviews.dropna()"
      ],
      "metadata": {
        "id": "RdeOYxSvWjKB"
      },
      "execution_count": null,
      "outputs": []
    },
    {
      "cell_type": "code",
      "source": [
        "df_rating_reviews_dropna.info()"
      ],
      "metadata": {
        "id": "LLxpHfZsW-bp"
      },
      "execution_count": null,
      "outputs": []
    },
    {
      "cell_type": "code",
      "source": [
        "df_clean = df_rating_reviews_dropna.drop_duplicates(subset=['Rating','Category'])"
      ],
      "metadata": {
        "id": "tqSuHBywXEwW"
      },
      "execution_count": null,
      "outputs": []
    },
    {
      "cell_type": "code",
      "source": [
        "df_clean.info()"
      ],
      "metadata": {
        "id": "qJGwv9FJO0zo"
      },
      "execution_count": null,
      "outputs": []
    },
    {
      "cell_type": "code",
      "source": [
        "df_clean"
      ],
      "metadata": {
        "collapsed": true,
        "id": "c21yOWT7O_LC"
      },
      "execution_count": null,
      "outputs": []
    },
    {
      "cell_type": "code",
      "source": [
        "df_clean.reset_index(drop = True, inplace = True)"
      ],
      "metadata": {
        "id": "wsBMeT5oX5hs"
      },
      "execution_count": null,
      "outputs": []
    },
    {
      "cell_type": "code",
      "source": [
        "df_clean"
      ],
      "metadata": {
        "id": "7h86uCXr2RL1"
      },
      "execution_count": null,
      "outputs": []
    },
    {
      "cell_type": "code",
      "source": [
        "df1"
      ],
      "metadata": {
        "id": "gZSE4CMvBoMf"
      },
      "execution_count": null,
      "outputs": []
    },
    {
      "cell_type": "code",
      "source": [
        "df1.T"
      ],
      "metadata": {
        "id": "5N8xDr0PBqvY"
      },
      "execution_count": null,
      "outputs": []
    },
    {
      "cell_type": "code",
      "source": [
        "df1.transpose()"
      ],
      "metadata": {
        "id": "UZ9Bn31eBvtm"
      },
      "execution_count": null,
      "outputs": []
    }
  ]
}
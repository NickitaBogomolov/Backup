{
  "nbformat": 4,
  "nbformat_minor": 0,
  "metadata": {
    "colab": {
      "private_outputs": true,
      "provenance": []
    },
    "kernelspec": {
      "name": "python3",
      "display_name": "Python 3"
    },
    "language_info": {
      "name": "python"
    }
  },
  "cells": [
    {
      "cell_type": "markdown",
      "source": [
        "Занятие 4. Обучение без учителя. Практика."
      ],
      "metadata": {
        "id": "eYun3O7TNmWm"
      }
    },
    {
      "cell_type": "markdown",
      "source": [
        "Датасет: https://drive.google.com/file/d/19Xa1ERSbhphdSuVYmjxtq_ALsplzClz_/view?usp=share_link"
      ],
      "metadata": {
        "id": "VxwVhk9RQP-8"
      }
    },
    {
      "cell_type": "markdown",
      "source": [
        "1. Выведите информацию о датафрейме, есть ли в датафрейме пропущенные значения?\n",
        "2. Используя методы из прошлых занятий, решите проблему с пропущенными значениями.\n",
        "3. Удалите столбцы нерелевантные для задачи (case, site, Pop, sex).\n",
        "4. Постройте матрицу корелляции.\n",
        "5. Используйте метод\n",
        " StandardScaler, PowerTransformer\n",
        "5. Используйте методы понижения размерности для трансформации данных pca n=2\n",
        "6. Реализуйте метод кластеризации KMeans из прошлого занятия.\n",
        "7. Постройте графики для для визуализации данных с 2 классами, затем с 3 мя, продемонстрируйте, как изменились графики.\n"
      ],
      "metadata": {
        "id": "64AgMnARLImV"
      }
    },
    {
      "cell_type": "code",
      "source": [
        "from sklearn.datasets import load_iris\n",
        "import matplotlib.pyplot as plt\n",
        "from sklearn.cluster import DBSCAN\n",
        "from sklearn.decomposition import PCA\n",
        "from sklearn import datasets\n",
        "from sklearn.manifold import TSNE\n",
        "import pandas as pd\n",
        "import numpy as np\n",
        "import matplotlib.pyplot as plt\n",
        "import seaborn as sns\n",
        "\n",
        "%matplotlib inline\n",
        "sns.set_style(\"darkgrid\")\n",
        "\n",
        "from sklearn.preprocessing import StandardScaler\n",
        "from sklearn.preprocessing import PowerTransformer\n",
        "\n",
        "from sklearn.decomposition import PCA\n",
        "from sklearn.cluster import KMeans\n",
        "\n",
        "import random\n",
        "\n",
        "std_figure_size = (10,10)\n",
        "plt.rc(\"axes\", labelweight=\"bold\", labelsize=\"large\", titleweight=\"bold\", titlesize=14, titlepad=10)\n",
        "\n",
        "fixed_random_state = random.seed(42)"
      ],
      "metadata": {
        "id": "ekFNiXodX5rJ"
      },
      "execution_count": null,
      "outputs": []
    },
    {
      "cell_type": "code",
      "source": [
        "df_possum = pd.read_csv('possum.csv')"
      ],
      "metadata": {
        "id": "sFDcizH3wcnH"
      },
      "execution_count": null,
      "outputs": []
    },
    {
      "cell_type": "code",
      "source": [
        "df_possum"
      ],
      "metadata": {
        "id": "v7s_VFiUrL79"
      },
      "execution_count": null,
      "outputs": []
    },
    {
      "cell_type": "code",
      "source": [
        "df_possum.columns"
      ],
      "metadata": {
        "id": "DdjcnyhJrVZp"
      },
      "execution_count": null,
      "outputs": []
    },
    {
      "cell_type": "code",
      "source": [
        "df_possum.drop(columns =['case', 'site', 'Pop', 'sex'], inplace = True)"
      ],
      "metadata": {
        "id": "Bn8sNZsIrOg8"
      },
      "execution_count": null,
      "outputs": []
    },
    {
      "cell_type": "code",
      "source": [
        "df_possum.info()"
      ],
      "metadata": {
        "id": "4B1Yd_JprdQP"
      },
      "execution_count": null,
      "outputs": []
    },
    {
      "cell_type": "code",
      "source": [
        "df_possum.sex.replace('m', 0, inplace=True)\n",
        "df_possum.sex.replace('f', 1, inplace=True)"
      ],
      "metadata": {
        "id": "0zVubb7DVKtU"
      },
      "execution_count": null,
      "outputs": []
    },
    {
      "cell_type": "code",
      "source": [
        "df_possum.dropna(inplace=True)"
      ],
      "metadata": {
        "id": "NeCg4sOVuH3y"
      },
      "execution_count": null,
      "outputs": []
    },
    {
      "cell_type": "code",
      "source": [
        "def draw_corr_matrix(df: pd.DataFrame, shape: int): # df-ваш датафрейм, shape - размер матрицы\n",
        "    df = df.corr().copy()\n",
        "    plt.rcParams[\"figure.figsize\"] = shape,shape\n",
        "    plt.imshow(df, cmap ='viridis')\n",
        "\n",
        "\n",
        "    plt.colorbar()\n",
        "\n",
        "    for i in range(df.shape[0]):\n",
        "        for j in range(df.shape[1]):\n",
        "            text = plt.text(j, i, round(float(df.iloc[i, j]),2),\n",
        "                        ha=\"center\", va=\"center\", color=\"r\")\n",
        "\n",
        "    plt.xticks(range(len(df)), df.columns, rotation = 45)\n",
        "\n",
        "\n",
        "    plt.yticks(range(len(df)), df.index)\n",
        "\n",
        "    plt.show()"
      ],
      "metadata": {
        "id": "_Fd7Lwp9Ux3y"
      },
      "execution_count": null,
      "outputs": []
    },
    {
      "cell_type": "code",
      "source": [
        "draw_corr_matrix(df_possum, 7)"
      ],
      "metadata": {
        "id": "bqX1J3QQU4XY"
      },
      "execution_count": null,
      "outputs": []
    },
    {
      "cell_type": "code",
      "source": [
        "x = StandardScaler().fit_transform(df_possum)\n",
        "x = PowerTransformer(standardize = False).fit_transform(x)\n",
        "transformed_possum = pd.DataFrame(data = x, columns = df_possum.columns)"
      ],
      "metadata": {
        "id": "FhJUaa6xViln"
      },
      "execution_count": null,
      "outputs": []
    },
    {
      "cell_type": "code",
      "source": [
        "transformed_possum"
      ],
      "metadata": {
        "id": "qQhMSyhAWmMn"
      },
      "execution_count": null,
      "outputs": []
    },
    {
      "cell_type": "code",
      "source": [
        "possum_pca = PCA(n_components = 2, random_state = 10).fit_transform(transformed_possum)"
      ],
      "metadata": {
        "id": "WZ0EH5sQWpaW"
      },
      "execution_count": null,
      "outputs": []
    },
    {
      "cell_type": "code",
      "source": [
        "possum_pca"
      ],
      "metadata": {
        "id": "tr1xg-phW_w2"
      },
      "execution_count": null,
      "outputs": []
    },
    {
      "cell_type": "code",
      "source": [
        "sns.scatterplot(x=possum_pca[:, 0], y=possum_pca[:, 1])\n",
        "plt.legend(title=\"Possum\")\n",
        "\n",
        "plt.show()"
      ],
      "metadata": {
        "id": "h9F_g58vXDrt"
      },
      "execution_count": null,
      "outputs": []
    },
    {
      "cell_type": "code",
      "source": [
        "labels1 = KMeans(n_clusters = 2, random_state = 10).fit_predict(transformed_possum)"
      ],
      "metadata": {
        "id": "mRmcxdDjXU0H"
      },
      "execution_count": null,
      "outputs": []
    },
    {
      "cell_type": "code",
      "source": [
        "labels1"
      ],
      "metadata": {
        "id": "X9B10y8KXvDq"
      },
      "execution_count": null,
      "outputs": []
    },
    {
      "cell_type": "code",
      "source": [
        "sns.scatterplot(x=possum_pca[:, 0], y=possum_pca[:, 1], hue=labels1)\n",
        "plt.legend(title=\"Possum\")\n",
        "\n",
        "plt.show()"
      ],
      "metadata": {
        "id": "eCQ_dw7aXxmg"
      },
      "execution_count": null,
      "outputs": []
    },
    {
      "cell_type": "code",
      "source": [
        "labels2 = KMeans(n_clusters = 3, random_state = 10).fit_predict(transformed_possum)"
      ],
      "metadata": {
        "id": "DrGMdXpIX6IP"
      },
      "execution_count": null,
      "outputs": []
    },
    {
      "cell_type": "code",
      "source": [
        "sns.scatterplot(x=possum_pca[:, 0], y=possum_pca[:, 1], hue=labels2)\n",
        "plt.legend(title=\"Possum\")\n",
        "\n",
        "plt.show()"
      ],
      "metadata": {
        "id": "1qAl0rPfX9Kw"
      },
      "execution_count": null,
      "outputs": []
    },
    {
      "cell_type": "code",
      "source": [
        "kmeans = KMeans(n_clusters=3, init='k-means++',random_state=fixed_random_state)\n",
        "labels_3 = kmeans.fit_predict(transformed_possum)\n",
        "centers = kmeans.cluster_centers_"
      ],
      "metadata": {
        "id": "ZTLaS4sIYK4Y"
      },
      "execution_count": null,
      "outputs": []
    },
    {
      "cell_type": "code",
      "source": [
        "sns.scatterplot(x=possum_pca[:, 0], y=possum_pca[:, 1], hue=labels_3)\n",
        "plt.legend(title=\"Possum\")\n",
        "plt.scatter(centers[:, 0],centers[:, 1], c='red', s=200, alpha = 0.5 )\n",
        "plt.show()"
      ],
      "metadata": {
        "id": "C4b0AmfXYPOt"
      },
      "execution_count": null,
      "outputs": []
    }
  ]
}
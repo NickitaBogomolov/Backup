{
  "nbformat": 4,
  "nbformat_minor": 0,
  "metadata": {
    "colab": {
      "private_outputs": true,
      "provenance": []
    },
    "kernelspec": {
      "name": "python3",
      "display_name": "Python 3"
    },
    "language_info": {
      "name": "python"
    }
  },
  "cells": [
    {
      "cell_type": "markdown",
      "source": [
        "Работа с данными в Pandas. Занятие 2.\n",
        "\n",
        "---\n",
        "\n"
      ],
      "metadata": {
        "id": "gST6iz4zRulh"
      }
    },
    {
      "cell_type": "markdown",
      "source": [
        "Интеграция с гугл-диском"
      ],
      "metadata": {
        "id": "8GNr7Q8wcPBp"
      }
    },
    {
      "cell_type": "code",
      "source": [
        "from google.colab import drive\n",
        "drive.mount('/content/gdrive')"
      ],
      "metadata": {
        "id": "gwBUNrjocPOo"
      },
      "execution_count": null,
      "outputs": []
    },
    {
      "cell_type": "code",
      "source": [
        "import pandas as pd"
      ],
      "metadata": {
        "id": "VtDsd0847KWh"
      },
      "execution_count": null,
      "outputs": []
    },
    {
      "cell_type": "markdown",
      "source": [
        "**Ссылка на датасет:** https://drive.google.com/file/d/1D3OXD4lij_2nO1BYtkF-7b045K9gGVfc/view?usp=share_link"
      ],
      "metadata": {
        "id": "kOUJvImBVpBk"
      }
    },
    {
      "cell_type": "code",
      "source": [
        "df_data = pd.read_csv('/content/gdrive/MyDrive/Dataset/house_prices.csv')"
      ],
      "metadata": {
        "id": "EVltJc30iWaV"
      },
      "execution_count": null,
      "outputs": []
    },
    {
      "cell_type": "code",
      "source": [
        "df_data"
      ],
      "metadata": {
        "id": "pp4cLnpHib65"
      },
      "execution_count": null,
      "outputs": []
    },
    {
      "cell_type": "code",
      "source": [
        "df_data.info()"
      ],
      "metadata": {
        "id": "ML7Xr8HFYnh1"
      },
      "execution_count": null,
      "outputs": []
    },
    {
      "cell_type": "markdown",
      "source": [
        "Часто наборы данных будут иметь подробные имена столбцов с символами, словами в верхнем и нижнем регистре, пробелами и опечатками. Чтобы упростить выбор данных по имени столбца, мы можем потратить немного времени на очистку их имен.\n",
        "\n",
        "Вот как напечатать имена столбцов нашего набора данных:"
      ],
      "metadata": {
        "id": "Peu5Tmgloe-X"
      }
    },
    {
      "cell_type": "code",
      "source": [
        "df_data.columns"
      ],
      "metadata": {
        "id": "FiWsYUI8ogap"
      },
      "execution_count": null,
      "outputs": []
    },
    {
      "cell_type": "code",
      "source": [
        "df_data.rename(columns={\n",
        "        'date': 'DATE',\n",
        "        'price': 'PRICE',\n",
        "        'bedrooms': 'BEDROOMS',\n",
        "        'bathrooms': 'BATHROOMS'\n",
        "    }, inplace=True)"
      ],
      "metadata": {
        "id": "pgx6tolx3iFC"
      },
      "execution_count": null,
      "outputs": []
    },
    {
      "cell_type": "code",
      "source": [
        "df_data.columns"
      ],
      "metadata": {
        "id": "eUyABe5k4GEo"
      },
      "execution_count": null,
      "outputs": []
    },
    {
      "cell_type": "code",
      "source": [
        "df_data['sqft_living'].describe()"
      ],
      "metadata": {
        "id": "nuWlknHD3bjV"
      },
      "execution_count": null,
      "outputs": []
    },
    {
      "cell_type": "code",
      "source": [
        "df_data[df_data['sqft_living']>2139]"
      ],
      "metadata": {
        "id": "Msuo_Wv7fLDa"
      },
      "execution_count": null,
      "outputs": []
    },
    {
      "cell_type": "code",
      "source": [
        "df_data[['PRICE', 'floors', 'BEDROOMS']]"
      ],
      "metadata": {
        "id": "CxHFECEh30Hy"
      },
      "execution_count": null,
      "outputs": []
    },
    {
      "cell_type": "code",
      "source": [
        "df_data[['PRICE', 'floors', 'BEDROOMS']][df_data['sqft_living']==df_data['sqft_living'].max()]"
      ],
      "metadata": {
        "id": "VMxQ1mJ9fbJZ"
      },
      "execution_count": null,
      "outputs": []
    },
    {
      "cell_type": "code",
      "source": [
        "df_data[['PRICE', 'sqft_living']][df_data['BEDROOMS']>3]"
      ],
      "metadata": {
        "id": "2xtCVUnrfgYg"
      },
      "execution_count": null,
      "outputs": []
    },
    {
      "cell_type": "code",
      "source": [
        "len(df_data['PRICE'][df_data['BEDROOMS']<3])"
      ],
      "metadata": {
        "id": "1r3GZu2tfl05"
      },
      "execution_count": null,
      "outputs": []
    },
    {
      "cell_type": "code",
      "source": [
        "subset = df_data[['PRICE', 'floors']]"
      ],
      "metadata": {
        "id": "U7Eu2kxStEG5"
      },
      "execution_count": null,
      "outputs": []
    },
    {
      "cell_type": "code",
      "source": [
        "subset.head()"
      ],
      "metadata": {
        "id": "YkUzp0KstMkS"
      },
      "execution_count": null,
      "outputs": []
    },
    {
      "cell_type": "markdown",
      "source": [
        "Условия в Pandas"
      ],
      "metadata": {
        "id": "c9Aw3TR2ubRo"
      }
    },
    {
      "cell_type": "code",
      "source": [
        "subset"
      ],
      "metadata": {
        "id": "UdxVFBDLR5Dp"
      },
      "execution_count": null,
      "outputs": []
    },
    {
      "cell_type": "code",
      "source": [
        "subset['PRICE'] == 550000"
      ],
      "metadata": {
        "id": "Z1ORKBf_a9EY"
      },
      "execution_count": null,
      "outputs": []
    },
    {
      "cell_type": "code",
      "source": [
        "subset[subset['PRICE'] >= 550000]"
      ],
      "metadata": {
        "id": "rEzIAEX4uFHl"
      },
      "execution_count": null,
      "outputs": []
    },
    {
      "cell_type": "markdown",
      "source": [
        "Мы можем сделать более богатые условные операторы, используя логические операторы | для «или» и & для «и»."
      ],
      "metadata": {
        "id": "A2JVFigvuYP6"
      }
    },
    {
      "cell_type": "code",
      "source": [
        "subset[(subset['PRICE'] == 45000) | (subset['floors'] > 3)]"
      ],
      "metadata": {
        "id": "No9Tl98Yf5JX"
      },
      "execution_count": null,
      "outputs": []
    },
    {
      "cell_type": "code",
      "source": [
        "subset_60_100 = subset[(subset['PRICE'] > 60000) & (subset['floors']  == 2)]"
      ],
      "metadata": {
        "id": "OIYRqByfgZ_f"
      },
      "execution_count": null,
      "outputs": []
    },
    {
      "cell_type": "code",
      "source": [
        "subset_60_100"
      ],
      "metadata": {
        "id": "rzwvspzngsHe"
      },
      "execution_count": null,
      "outputs": []
    },
    {
      "cell_type": "code",
      "source": [
        "subset['floors'].value_counts()"
      ],
      "metadata": {
        "id": "pgpnF6e1p0M6"
      },
      "execution_count": null,
      "outputs": []
    },
    {
      "cell_type": "code",
      "source": [
        "for i, row in subset_60_100.iterrows():\n",
        "    print (i, row)"
      ],
      "metadata": {
        "id": "4fZ630PTzroo",
        "collapsed": true
      },
      "execution_count": null,
      "outputs": []
    },
    {
      "cell_type": "markdown",
      "source": [
        "Можно перебирать DataFrame или Series так же, как и со списком, но делать это — особенно с большими наборами данных — очень медленно.\n",
        "\n",
        "Эффективной альтернативой является применение функции apply() к набору данных."
      ],
      "metadata": {
        "id": "XvQ-6poluzKE"
      }
    },
    {
      "cell_type": "code",
      "source": [
        "df_data.head()"
      ],
      "metadata": {
        "id": "zw3Sqe5ChzhK",
        "collapsed": true
      },
      "execution_count": null,
      "outputs": []
    },
    {
      "cell_type": "code",
      "source": [
        "def floor_counter(x):\n",
        "    if x == 1:\n",
        "        return \"один этаж\"\n",
        "    elif x == 2:\n",
        "        return \"два этажа\"\n",
        "    elif x == 3:\n",
        "        return \"три этажа\"\n",
        "    else:\n",
        "        return \"c чердаком\""
      ],
      "metadata": {
        "id": "7Li2qCczzObv"
      },
      "execution_count": null,
      "outputs": []
    },
    {
      "cell_type": "code",
      "source": [
        "df_data['floors'].apply(floor_counter)"
      ],
      "metadata": {
        "id": "zNO1HsCju5jp"
      },
      "execution_count": null,
      "outputs": []
    },
    {
      "cell_type": "code",
      "source": [
        "df_data['floors_text'] = df_data['floors'].apply(floor_counter)"
      ],
      "metadata": {
        "id": "L8bNS6F6z6Yk"
      },
      "execution_count": null,
      "outputs": []
    },
    {
      "cell_type": "code",
      "source": [
        "df_data.head(2)"
      ],
      "metadata": {
        "id": "OVaOhhI5iq7M"
      },
      "execution_count": null,
      "outputs": []
    },
    {
      "cell_type": "code",
      "source": [
        "df_data['floors_text'].value_counts()"
      ],
      "metadata": {
        "id": "8e8JKyNojc6k"
      },
      "execution_count": null,
      "outputs": []
    },
    {
      "cell_type": "code",
      "source": [
        "df_data['floors_text'].replace('c чердаком', 'c подвалом', inplace = True)"
      ],
      "metadata": {
        "id": "Rc0nA-cejtX_"
      },
      "execution_count": null,
      "outputs": []
    },
    {
      "cell_type": "code",
      "source": [
        "df_data['floors_text'].value_counts()"
      ],
      "metadata": {
        "id": "BRgZ7lHW6JyU"
      },
      "execution_count": null,
      "outputs": []
    },
    {
      "cell_type": "markdown",
      "source": [
        "**Поиск взаимосвязей в данных:**"
      ],
      "metadata": {
        "id": "UF_3Cfvjkh7a"
      }
    },
    {
      "cell_type": "markdown",
      "source": [
        "\n",
        "Отличным аспектом модуля Pandas является метод corr().\n",
        "\n",
        "Метод corr() вычисляет взаимосвязь между каждым столбцом в вашем наборе данных."
      ],
      "metadata": {
        "id": "IVuAWyBCkfQg"
      }
    },
    {
      "cell_type": "code",
      "source": [
        "df_data.shape"
      ],
      "metadata": {
        "id": "xI5JzcymlSVG"
      },
      "execution_count": null,
      "outputs": []
    },
    {
      "cell_type": "code",
      "source": [
        "df_data.shape[0]"
      ],
      "metadata": {
        "id": "lQoftrUmjMIA"
      },
      "execution_count": null,
      "outputs": []
    },
    {
      "cell_type": "code",
      "source": [
        "df_data.shape[1]"
      ],
      "metadata": {
        "id": "zNF3AYD8jOr5"
      },
      "execution_count": null,
      "outputs": []
    },
    {
      "cell_type": "code",
      "source": [
        "df_data[['PRICE','BEDROOMS','BATHROOMS','sqft_living','sqft_lot','floors']].corr()"
      ],
      "metadata": {
        "id": "Lcmya_RSilCl"
      },
      "execution_count": null,
      "outputs": []
    },
    {
      "cell_type": "code",
      "source": [
        "df = df_data[['PRICE','BEDROOMS','BATHROOMS','sqft_living','sqft_lot','floors']].corr()"
      ],
      "metadata": {
        "id": "1duTn1SHnoyx"
      },
      "execution_count": null,
      "outputs": []
    },
    {
      "cell_type": "markdown",
      "source": [
        "Объяснение результата\n",
        "Результатом метода corr() является таблица с большим количеством чисел, которые показывают, насколько существует корреляция между двумя столбцами.\n",
        "\n",
        "Число варьируется от -1 до 1.\n",
        "\n",
        "1 означает, что существует отношение 1 к 1 (идеальная корреляция), и для этого набора данных каждый раз, когда значение в первом столбце увеличивалось, другое значение также увеличивалось.\n",
        "\n",
        "0,9  также является хорошим соотношением, и если вы увеличите одно значение, то, вероятно, увеличится и другое.\n",
        "\n",
        "-0,9 будет таким же хорошим соотношением, как и 0,9, но если вы увеличите одно значение, другое, вероятно, уменьшится.\n",
        "\n",
        "0,2 означает низкую корреляцию, а это означает, что если одно значение повышается, это не означает, что другое будет расти."
      ],
      "metadata": {
        "id": "WPtGKleukx1n"
      }
    },
    {
      "cell_type": "code",
      "source": [
        "import matplotlib.pyplot as plt"
      ],
      "metadata": {
        "id": "ueTj66LxnY6K"
      },
      "execution_count": null,
      "outputs": []
    },
    {
      "cell_type": "markdown",
      "source": [
        "Рисуем тепловую карту корреляции данных:"
      ],
      "metadata": {
        "id": "dEL9J1Qny8da"
      }
    },
    {
      "cell_type": "code",
      "source": [
        "plt.rcParams[\"figure.figsize\"] = 7, 7\n",
        "plt.imshow(df, cmap ='viridis')\n",
        "\n",
        "# Отображение цветной полосы для понимания\n",
        "# какой цвет представляет какой диапазон данных\n",
        "plt.colorbar()\n",
        "\n",
        "for i in range(df.shape[0]):\n",
        "    for j in range(df.shape[1]):\n",
        "        text = plt.text(j, i, round(float(df.iloc[i, j]),2),\n",
        "                       ha=\"center\", va=\"center\", color=\"r\")\n",
        "# Присвоение меток оси X\n",
        "# согласно датафрейму\n",
        "plt.xticks(range(len(df)), df.columns, rotation = 45)\n",
        "\n",
        "# Присвоение меток оси y\n",
        "# согласно датафрейму\n",
        "plt.yticks(range(len(df)), df.index)\n",
        "\n",
        "# Рисуем график\n",
        "plt.show()"
      ],
      "metadata": {
        "id": "cUTg2EgwmUMb"
      },
      "execution_count": null,
      "outputs": []
    },
    {
      "cell_type": "markdown",
      "source": [
        "\n",
        "Практика:\n",
        "---\n",
        "\n"
      ],
      "metadata": {
        "id": "S3Htqfkr0OSN"
      }
    },
    {
      "cell_type": "markdown",
      "source": [
        "/content/gdrive/MyDrive/Dataset/songs_dataset_homework.csv"
      ],
      "metadata": {
        "id": "HtAtewXG0UNC"
      }
    },
    {
      "cell_type": "markdown",
      "source": [
        "**датасет:** https://drive.google.com/file/d/1gwUChVCiAfRbuxenqedG0r2Wf8EnFwl9/view?usp=share_link"
      ],
      "metadata": {
        "id": "tx31X7anmA5V"
      }
    },
    {
      "cell_type": "markdown",
      "source": [
        "*   Скачать датасет.\n",
        "*   Если при наличии столбца Unnamed: 0, удалите его.\n",
        "*   Замените в названиях колонок все . на _ , если точки в конце одного слова, удалите их. Все колонки должны быть со строчной буквы\n",
        "\n",
        "*   Провести анализ на пустые значения, если они есть, заполнить пустые значения средними, либо медианными.\n",
        "*   Выведите информацию о перцентилях, максимальном, минимальном и среднем значении по всем числовым столбцам датафрейма.\n",
        "*   Написать функцию которая выводит кол-во строк и столбцов в датафрейме, а также названия этих столбцов.\n",
        "*   Напишите функцию danceability_calculation, которая на основе колонки Danceability возвращает при значении x меньше или равно 67 low, больше 67, но меньше или равно 73 medium и больше 73 high.\n",
        "*   Примените функцию danceability_calculation к столбцу Danceability, результат запишите в колонку Danceability_value(ее нужно создать)\n",
        "*   Создайте матрицу и постройте график корреляции, используя код из занятия\n"
      ],
      "metadata": {
        "id": "vW-Yhp3p0fSz"
      }
    }
  ]
}